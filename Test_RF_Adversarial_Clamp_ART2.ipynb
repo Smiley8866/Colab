{
  "nbformat": 4,
  "nbformat_minor": 0,
  "metadata": {
    "colab": {
      "provenance": [],
      "authorship_tag": "ABX9TyOpyAOJn67s+lLtLBmA2701",
      "include_colab_link": true
    },
    "kernelspec": {
      "name": "python3",
      "display_name": "Python 3"
    },
    "language_info": {
      "name": "python"
    },
    "widgets": {
      "application/vnd.jupyter.widget-state+json": {
        "1ae1c27ea24d4388971b4eba9cb1ead8": {
          "model_module": "@jupyter-widgets/controls",
          "model_name": "HBoxModel",
          "model_module_version": "1.5.0",
          "state": {
            "_dom_classes": [],
            "_model_module": "@jupyter-widgets/controls",
            "_model_module_version": "1.5.0",
            "_model_name": "HBoxModel",
            "_view_count": null,
            "_view_module": "@jupyter-widgets/controls",
            "_view_module_version": "1.5.0",
            "_view_name": "HBoxView",
            "box_style": "",
            "children": [
              "IPY_MODEL_8bf710aa86cf4542b0fbde22bade5e3e",
              "IPY_MODEL_0de1759ed9ac4087956b9467b5a8e190",
              "IPY_MODEL_9b8de3fbd3ed4ca68bb01d11f5e3e21a"
            ],
            "layout": "IPY_MODEL_5594982f5e2944cc84bb19afc8f14faf"
          }
        },
        "8bf710aa86cf4542b0fbde22bade5e3e": {
          "model_module": "@jupyter-widgets/controls",
          "model_name": "HTMLModel",
          "model_module_version": "1.5.0",
          "state": {
            "_dom_classes": [],
            "_model_module": "@jupyter-widgets/controls",
            "_model_module_version": "1.5.0",
            "_model_name": "HTMLModel",
            "_view_count": null,
            "_view_module": "@jupyter-widgets/controls",
            "_view_module_version": "1.5.0",
            "_view_name": "HTMLView",
            "description": "",
            "description_tooltip": null,
            "layout": "IPY_MODEL_19e42762d4bd4f869e11db3b41332475",
            "placeholder": "​",
            "style": "IPY_MODEL_268a845669bf4d91b1f6a6969b5ae157",
            "value": "HopSkipJump: 100%"
          }
        },
        "0de1759ed9ac4087956b9467b5a8e190": {
          "model_module": "@jupyter-widgets/controls",
          "model_name": "FloatProgressModel",
          "model_module_version": "1.5.0",
          "state": {
            "_dom_classes": [],
            "_model_module": "@jupyter-widgets/controls",
            "_model_module_version": "1.5.0",
            "_model_name": "FloatProgressModel",
            "_view_count": null,
            "_view_module": "@jupyter-widgets/controls",
            "_view_module_version": "1.5.0",
            "_view_name": "ProgressView",
            "bar_style": "success",
            "description": "",
            "description_tooltip": null,
            "layout": "IPY_MODEL_77e6ec658f504f77a6e82643120d62ab",
            "max": 1000,
            "min": 0,
            "orientation": "horizontal",
            "style": "IPY_MODEL_f4e79cd66dd54cefa42ad73f35f12acb",
            "value": 1000
          }
        },
        "9b8de3fbd3ed4ca68bb01d11f5e3e21a": {
          "model_module": "@jupyter-widgets/controls",
          "model_name": "HTMLModel",
          "model_module_version": "1.5.0",
          "state": {
            "_dom_classes": [],
            "_model_module": "@jupyter-widgets/controls",
            "_model_module_version": "1.5.0",
            "_model_name": "HTMLModel",
            "_view_count": null,
            "_view_module": "@jupyter-widgets/controls",
            "_view_module_version": "1.5.0",
            "_view_name": "HTMLView",
            "description": "",
            "description_tooltip": null,
            "layout": "IPY_MODEL_40a9ddd10fbc4a78bf5c85cadc7f2210",
            "placeholder": "​",
            "style": "IPY_MODEL_f6b2722fd69f4c3cb217fc6f56f74304",
            "value": " 1000/1000 [07:23&lt;00:00,  2.30it/s]"
          }
        },
        "5594982f5e2944cc84bb19afc8f14faf": {
          "model_module": "@jupyter-widgets/base",
          "model_name": "LayoutModel",
          "model_module_version": "1.2.0",
          "state": {
            "_model_module": "@jupyter-widgets/base",
            "_model_module_version": "1.2.0",
            "_model_name": "LayoutModel",
            "_view_count": null,
            "_view_module": "@jupyter-widgets/base",
            "_view_module_version": "1.2.0",
            "_view_name": "LayoutView",
            "align_content": null,
            "align_items": null,
            "align_self": null,
            "border": null,
            "bottom": null,
            "display": null,
            "flex": null,
            "flex_flow": null,
            "grid_area": null,
            "grid_auto_columns": null,
            "grid_auto_flow": null,
            "grid_auto_rows": null,
            "grid_column": null,
            "grid_gap": null,
            "grid_row": null,
            "grid_template_areas": null,
            "grid_template_columns": null,
            "grid_template_rows": null,
            "height": null,
            "justify_content": null,
            "justify_items": null,
            "left": null,
            "margin": null,
            "max_height": null,
            "max_width": null,
            "min_height": null,
            "min_width": null,
            "object_fit": null,
            "object_position": null,
            "order": null,
            "overflow": null,
            "overflow_x": null,
            "overflow_y": null,
            "padding": null,
            "right": null,
            "top": null,
            "visibility": null,
            "width": null
          }
        },
        "19e42762d4bd4f869e11db3b41332475": {
          "model_module": "@jupyter-widgets/base",
          "model_name": "LayoutModel",
          "model_module_version": "1.2.0",
          "state": {
            "_model_module": "@jupyter-widgets/base",
            "_model_module_version": "1.2.0",
            "_model_name": "LayoutModel",
            "_view_count": null,
            "_view_module": "@jupyter-widgets/base",
            "_view_module_version": "1.2.0",
            "_view_name": "LayoutView",
            "align_content": null,
            "align_items": null,
            "align_self": null,
            "border": null,
            "bottom": null,
            "display": null,
            "flex": null,
            "flex_flow": null,
            "grid_area": null,
            "grid_auto_columns": null,
            "grid_auto_flow": null,
            "grid_auto_rows": null,
            "grid_column": null,
            "grid_gap": null,
            "grid_row": null,
            "grid_template_areas": null,
            "grid_template_columns": null,
            "grid_template_rows": null,
            "height": null,
            "justify_content": null,
            "justify_items": null,
            "left": null,
            "margin": null,
            "max_height": null,
            "max_width": null,
            "min_height": null,
            "min_width": null,
            "object_fit": null,
            "object_position": null,
            "order": null,
            "overflow": null,
            "overflow_x": null,
            "overflow_y": null,
            "padding": null,
            "right": null,
            "top": null,
            "visibility": null,
            "width": null
          }
        },
        "268a845669bf4d91b1f6a6969b5ae157": {
          "model_module": "@jupyter-widgets/controls",
          "model_name": "DescriptionStyleModel",
          "model_module_version": "1.5.0",
          "state": {
            "_model_module": "@jupyter-widgets/controls",
            "_model_module_version": "1.5.0",
            "_model_name": "DescriptionStyleModel",
            "_view_count": null,
            "_view_module": "@jupyter-widgets/base",
            "_view_module_version": "1.2.0",
            "_view_name": "StyleView",
            "description_width": ""
          }
        },
        "77e6ec658f504f77a6e82643120d62ab": {
          "model_module": "@jupyter-widgets/base",
          "model_name": "LayoutModel",
          "model_module_version": "1.2.0",
          "state": {
            "_model_module": "@jupyter-widgets/base",
            "_model_module_version": "1.2.0",
            "_model_name": "LayoutModel",
            "_view_count": null,
            "_view_module": "@jupyter-widgets/base",
            "_view_module_version": "1.2.0",
            "_view_name": "LayoutView",
            "align_content": null,
            "align_items": null,
            "align_self": null,
            "border": null,
            "bottom": null,
            "display": null,
            "flex": null,
            "flex_flow": null,
            "grid_area": null,
            "grid_auto_columns": null,
            "grid_auto_flow": null,
            "grid_auto_rows": null,
            "grid_column": null,
            "grid_gap": null,
            "grid_row": null,
            "grid_template_areas": null,
            "grid_template_columns": null,
            "grid_template_rows": null,
            "height": null,
            "justify_content": null,
            "justify_items": null,
            "left": null,
            "margin": null,
            "max_height": null,
            "max_width": null,
            "min_height": null,
            "min_width": null,
            "object_fit": null,
            "object_position": null,
            "order": null,
            "overflow": null,
            "overflow_x": null,
            "overflow_y": null,
            "padding": null,
            "right": null,
            "top": null,
            "visibility": null,
            "width": null
          }
        },
        "f4e79cd66dd54cefa42ad73f35f12acb": {
          "model_module": "@jupyter-widgets/controls",
          "model_name": "ProgressStyleModel",
          "model_module_version": "1.5.0",
          "state": {
            "_model_module": "@jupyter-widgets/controls",
            "_model_module_version": "1.5.0",
            "_model_name": "ProgressStyleModel",
            "_view_count": null,
            "_view_module": "@jupyter-widgets/base",
            "_view_module_version": "1.2.0",
            "_view_name": "StyleView",
            "bar_color": null,
            "description_width": ""
          }
        },
        "40a9ddd10fbc4a78bf5c85cadc7f2210": {
          "model_module": "@jupyter-widgets/base",
          "model_name": "LayoutModel",
          "model_module_version": "1.2.0",
          "state": {
            "_model_module": "@jupyter-widgets/base",
            "_model_module_version": "1.2.0",
            "_model_name": "LayoutModel",
            "_view_count": null,
            "_view_module": "@jupyter-widgets/base",
            "_view_module_version": "1.2.0",
            "_view_name": "LayoutView",
            "align_content": null,
            "align_items": null,
            "align_self": null,
            "border": null,
            "bottom": null,
            "display": null,
            "flex": null,
            "flex_flow": null,
            "grid_area": null,
            "grid_auto_columns": null,
            "grid_auto_flow": null,
            "grid_auto_rows": null,
            "grid_column": null,
            "grid_gap": null,
            "grid_row": null,
            "grid_template_areas": null,
            "grid_template_columns": null,
            "grid_template_rows": null,
            "height": null,
            "justify_content": null,
            "justify_items": null,
            "left": null,
            "margin": null,
            "max_height": null,
            "max_width": null,
            "min_height": null,
            "min_width": null,
            "object_fit": null,
            "object_position": null,
            "order": null,
            "overflow": null,
            "overflow_x": null,
            "overflow_y": null,
            "padding": null,
            "right": null,
            "top": null,
            "visibility": null,
            "width": null
          }
        },
        "f6b2722fd69f4c3cb217fc6f56f74304": {
          "model_module": "@jupyter-widgets/controls",
          "model_name": "DescriptionStyleModel",
          "model_module_version": "1.5.0",
          "state": {
            "_model_module": "@jupyter-widgets/controls",
            "_model_module_version": "1.5.0",
            "_model_name": "DescriptionStyleModel",
            "_view_count": null,
            "_view_module": "@jupyter-widgets/base",
            "_view_module_version": "1.2.0",
            "_view_name": "StyleView",
            "description_width": ""
          }
        },
        "827bc82b1bb44297aad51ca436eff5a6": {
          "model_module": "@jupyter-widgets/controls",
          "model_name": "HBoxModel",
          "model_module_version": "1.5.0",
          "state": {
            "_dom_classes": [],
            "_model_module": "@jupyter-widgets/controls",
            "_model_module_version": "1.5.0",
            "_model_name": "HBoxModel",
            "_view_count": null,
            "_view_module": "@jupyter-widgets/controls",
            "_view_module_version": "1.5.0",
            "_view_name": "HBoxView",
            "box_style": "",
            "children": [
              "IPY_MODEL_9020f39a61964393aa0d22952ceaef08",
              "IPY_MODEL_5b528a9dd2ea4858a0398f63fb1e5d59",
              "IPY_MODEL_8db73d89683142f289198bd4df4bf02f"
            ],
            "layout": "IPY_MODEL_32e6853d043d4959971b7402b272febf"
          }
        },
        "9020f39a61964393aa0d22952ceaef08": {
          "model_module": "@jupyter-widgets/controls",
          "model_name": "HTMLModel",
          "model_module_version": "1.5.0",
          "state": {
            "_dom_classes": [],
            "_model_module": "@jupyter-widgets/controls",
            "_model_module_version": "1.5.0",
            "_model_name": "HTMLModel",
            "_view_count": null,
            "_view_module": "@jupyter-widgets/controls",
            "_view_module_version": "1.5.0",
            "_view_name": "HTMLView",
            "description": "",
            "description_tooltip": null,
            "layout": "IPY_MODEL_879c67cdee2a4899a508febabdc5154c",
            "placeholder": "​",
            "style": "IPY_MODEL_13c37fdde1a943158dbee935a7e81d66",
            "value": "Boundary attack: 100%"
          }
        },
        "5b528a9dd2ea4858a0398f63fb1e5d59": {
          "model_module": "@jupyter-widgets/controls",
          "model_name": "FloatProgressModel",
          "model_module_version": "1.5.0",
          "state": {
            "_dom_classes": [],
            "_model_module": "@jupyter-widgets/controls",
            "_model_module_version": "1.5.0",
            "_model_name": "FloatProgressModel",
            "_view_count": null,
            "_view_module": "@jupyter-widgets/controls",
            "_view_module_version": "1.5.0",
            "_view_name": "ProgressView",
            "bar_style": "success",
            "description": "",
            "description_tooltip": null,
            "layout": "IPY_MODEL_83fa88bc0e8b4233814996d22f846907",
            "max": 1000,
            "min": 0,
            "orientation": "horizontal",
            "style": "IPY_MODEL_f4e17dcc6bd24a8cb3f4d7ec4ad10720",
            "value": 1000
          }
        },
        "8db73d89683142f289198bd4df4bf02f": {
          "model_module": "@jupyter-widgets/controls",
          "model_name": "HTMLModel",
          "model_module_version": "1.5.0",
          "state": {
            "_dom_classes": [],
            "_model_module": "@jupyter-widgets/controls",
            "_model_module_version": "1.5.0",
            "_model_name": "HTMLModel",
            "_view_count": null,
            "_view_module": "@jupyter-widgets/controls",
            "_view_module_version": "1.5.0",
            "_view_name": "HTMLView",
            "description": "",
            "description_tooltip": null,
            "layout": "IPY_MODEL_c2801641b3854ad3858c1859c89c5b49",
            "placeholder": "​",
            "style": "IPY_MODEL_9a32e2e1522c4206b53049f96084e99c",
            "value": " 1000/1000 [07:28&lt;00:00,  2.49it/s]"
          }
        },
        "32e6853d043d4959971b7402b272febf": {
          "model_module": "@jupyter-widgets/base",
          "model_name": "LayoutModel",
          "model_module_version": "1.2.0",
          "state": {
            "_model_module": "@jupyter-widgets/base",
            "_model_module_version": "1.2.0",
            "_model_name": "LayoutModel",
            "_view_count": null,
            "_view_module": "@jupyter-widgets/base",
            "_view_module_version": "1.2.0",
            "_view_name": "LayoutView",
            "align_content": null,
            "align_items": null,
            "align_self": null,
            "border": null,
            "bottom": null,
            "display": null,
            "flex": null,
            "flex_flow": null,
            "grid_area": null,
            "grid_auto_columns": null,
            "grid_auto_flow": null,
            "grid_auto_rows": null,
            "grid_column": null,
            "grid_gap": null,
            "grid_row": null,
            "grid_template_areas": null,
            "grid_template_columns": null,
            "grid_template_rows": null,
            "height": null,
            "justify_content": null,
            "justify_items": null,
            "left": null,
            "margin": null,
            "max_height": null,
            "max_width": null,
            "min_height": null,
            "min_width": null,
            "object_fit": null,
            "object_position": null,
            "order": null,
            "overflow": null,
            "overflow_x": null,
            "overflow_y": null,
            "padding": null,
            "right": null,
            "top": null,
            "visibility": null,
            "width": null
          }
        },
        "879c67cdee2a4899a508febabdc5154c": {
          "model_module": "@jupyter-widgets/base",
          "model_name": "LayoutModel",
          "model_module_version": "1.2.0",
          "state": {
            "_model_module": "@jupyter-widgets/base",
            "_model_module_version": "1.2.0",
            "_model_name": "LayoutModel",
            "_view_count": null,
            "_view_module": "@jupyter-widgets/base",
            "_view_module_version": "1.2.0",
            "_view_name": "LayoutView",
            "align_content": null,
            "align_items": null,
            "align_self": null,
            "border": null,
            "bottom": null,
            "display": null,
            "flex": null,
            "flex_flow": null,
            "grid_area": null,
            "grid_auto_columns": null,
            "grid_auto_flow": null,
            "grid_auto_rows": null,
            "grid_column": null,
            "grid_gap": null,
            "grid_row": null,
            "grid_template_areas": null,
            "grid_template_columns": null,
            "grid_template_rows": null,
            "height": null,
            "justify_content": null,
            "justify_items": null,
            "left": null,
            "margin": null,
            "max_height": null,
            "max_width": null,
            "min_height": null,
            "min_width": null,
            "object_fit": null,
            "object_position": null,
            "order": null,
            "overflow": null,
            "overflow_x": null,
            "overflow_y": null,
            "padding": null,
            "right": null,
            "top": null,
            "visibility": null,
            "width": null
          }
        },
        "13c37fdde1a943158dbee935a7e81d66": {
          "model_module": "@jupyter-widgets/controls",
          "model_name": "DescriptionStyleModel",
          "model_module_version": "1.5.0",
          "state": {
            "_model_module": "@jupyter-widgets/controls",
            "_model_module_version": "1.5.0",
            "_model_name": "DescriptionStyleModel",
            "_view_count": null,
            "_view_module": "@jupyter-widgets/base",
            "_view_module_version": "1.2.0",
            "_view_name": "StyleView",
            "description_width": ""
          }
        },
        "83fa88bc0e8b4233814996d22f846907": {
          "model_module": "@jupyter-widgets/base",
          "model_name": "LayoutModel",
          "model_module_version": "1.2.0",
          "state": {
            "_model_module": "@jupyter-widgets/base",
            "_model_module_version": "1.2.0",
            "_model_name": "LayoutModel",
            "_view_count": null,
            "_view_module": "@jupyter-widgets/base",
            "_view_module_version": "1.2.0",
            "_view_name": "LayoutView",
            "align_content": null,
            "align_items": null,
            "align_self": null,
            "border": null,
            "bottom": null,
            "display": null,
            "flex": null,
            "flex_flow": null,
            "grid_area": null,
            "grid_auto_columns": null,
            "grid_auto_flow": null,
            "grid_auto_rows": null,
            "grid_column": null,
            "grid_gap": null,
            "grid_row": null,
            "grid_template_areas": null,
            "grid_template_columns": null,
            "grid_template_rows": null,
            "height": null,
            "justify_content": null,
            "justify_items": null,
            "left": null,
            "margin": null,
            "max_height": null,
            "max_width": null,
            "min_height": null,
            "min_width": null,
            "object_fit": null,
            "object_position": null,
            "order": null,
            "overflow": null,
            "overflow_x": null,
            "overflow_y": null,
            "padding": null,
            "right": null,
            "top": null,
            "visibility": null,
            "width": null
          }
        },
        "f4e17dcc6bd24a8cb3f4d7ec4ad10720": {
          "model_module": "@jupyter-widgets/controls",
          "model_name": "ProgressStyleModel",
          "model_module_version": "1.5.0",
          "state": {
            "_model_module": "@jupyter-widgets/controls",
            "_model_module_version": "1.5.0",
            "_model_name": "ProgressStyleModel",
            "_view_count": null,
            "_view_module": "@jupyter-widgets/base",
            "_view_module_version": "1.2.0",
            "_view_name": "StyleView",
            "bar_color": null,
            "description_width": ""
          }
        },
        "c2801641b3854ad3858c1859c89c5b49": {
          "model_module": "@jupyter-widgets/base",
          "model_name": "LayoutModel",
          "model_module_version": "1.2.0",
          "state": {
            "_model_module": "@jupyter-widgets/base",
            "_model_module_version": "1.2.0",
            "_model_name": "LayoutModel",
            "_view_count": null,
            "_view_module": "@jupyter-widgets/base",
            "_view_module_version": "1.2.0",
            "_view_name": "LayoutView",
            "align_content": null,
            "align_items": null,
            "align_self": null,
            "border": null,
            "bottom": null,
            "display": null,
            "flex": null,
            "flex_flow": null,
            "grid_area": null,
            "grid_auto_columns": null,
            "grid_auto_flow": null,
            "grid_auto_rows": null,
            "grid_column": null,
            "grid_gap": null,
            "grid_row": null,
            "grid_template_areas": null,
            "grid_template_columns": null,
            "grid_template_rows": null,
            "height": null,
            "justify_content": null,
            "justify_items": null,
            "left": null,
            "margin": null,
            "max_height": null,
            "max_width": null,
            "min_height": null,
            "min_width": null,
            "object_fit": null,
            "object_position": null,
            "order": null,
            "overflow": null,
            "overflow_x": null,
            "overflow_y": null,
            "padding": null,
            "right": null,
            "top": null,
            "visibility": null,
            "width": null
          }
        },
        "9a32e2e1522c4206b53049f96084e99c": {
          "model_module": "@jupyter-widgets/controls",
          "model_name": "DescriptionStyleModel",
          "model_module_version": "1.5.0",
          "state": {
            "_model_module": "@jupyter-widgets/controls",
            "_model_module_version": "1.5.0",
            "_model_name": "DescriptionStyleModel",
            "_view_count": null,
            "_view_module": "@jupyter-widgets/base",
            "_view_module_version": "1.2.0",
            "_view_name": "StyleView",
            "description_width": ""
          }
        }
      }
    }
  },
  "cells": [
    {
      "cell_type": "markdown",
      "metadata": {
        "id": "view-in-github",
        "colab_type": "text"
      },
      "source": [
        "<a href=\"https://colab.research.google.com/github/Smiley8866/Colab/blob/main/Test_RF_Adversarial_Clamp_ART2.ipynb\" target=\"_parent\"><img src=\"https://colab.research.google.com/assets/colab-badge.svg\" alt=\"Open In Colab\"/></a>"
      ]
    },
    {
      "cell_type": "code",
      "execution_count": null,
      "metadata": {
        "colab": {
          "base_uri": "https://localhost:8080/"
        },
        "id": "LGl60QWoE7Ur",
        "outputId": "094bf00d-b387-49c6-9eff-cbda895eee31"
      },
      "outputs": [
        {
          "output_type": "stream",
          "name": "stdout",
          "text": [
            "  % Total    % Received % Xferd  Average Speed   Time    Time     Time  Current\n",
            "                                 Dload  Upload   Total   Spent    Left  Speed\n",
            "100 1016k  100 1016k    0     0  1548k      0 --:--:-- --:--:-- --:--:-- 1550k\n"
          ]
        }
      ],
      "source": [
        "!curl --remote-name \\\n",
        "     -H 'Accept: application/vnd.github.v3.raw' \\\n",
        "     --location https://raw.githubusercontent.com/urwithajit9/ClaMP/refs/heads/master/dataset/ClaMP_Raw-5184.csv"
      ]
    },
    {
      "cell_type": "code",
      "source": [
        "!ls"
      ],
      "metadata": {
        "colab": {
          "base_uri": "https://localhost:8080/"
        },
        "id": "cIxHjlT1FNjT",
        "outputId": "6d277058-8ef3-407f-fc6d-6743e9309158"
      },
      "execution_count": null,
      "outputs": [
        {
          "output_type": "stream",
          "name": "stdout",
          "text": [
            "ClaMP_Raw-5184.csv  sample_data\n"
          ]
        }
      ]
    },
    {
      "cell_type": "code",
      "source": [
        "import pandas as pd\n",
        "db = pd.read_csv(\"ClaMP_Raw-5184.csv\")\n",
        "print(db.info())"
      ],
      "metadata": {
        "colab": {
          "base_uri": "https://localhost:8080/"
        },
        "collapsed": true,
        "id": "HNxBMKviFSWw",
        "outputId": "37e2ae69-d8ec-40e2-8f25-342c485e6668"
      },
      "execution_count": null,
      "outputs": [
        {
          "output_type": "stream",
          "name": "stdout",
          "text": [
            "<class 'pandas.core.frame.DataFrame'>\n",
            "RangeIndex: 5184 entries, 0 to 5183\n",
            "Data columns (total 56 columns):\n",
            " #   Column                       Non-Null Count  Dtype  \n",
            "---  ------                       --------------  -----  \n",
            " 0   e_magic                      5184 non-null   int64  \n",
            " 1   e_cblp                       5184 non-null   int64  \n",
            " 2   e_cp                         5184 non-null   int64  \n",
            " 3   e_crlc                       5184 non-null   int64  \n",
            " 4   e_cparhdr                    5184 non-null   int64  \n",
            " 5   e_minalloc                   5184 non-null   int64  \n",
            " 6   e_maxalloc                   5184 non-null   int64  \n",
            " 7   e_ss                         5184 non-null   int64  \n",
            " 8   e_sp                         5184 non-null   int64  \n",
            " 9   e_csum                       5184 non-null   int64  \n",
            " 10  e_ip                         5184 non-null   int64  \n",
            " 11  e_cs                         5184 non-null   int64  \n",
            " 12  e_lfarlc                     5184 non-null   int64  \n",
            " 13  e_ovno                       5184 non-null   int64  \n",
            " 14  e_res                        0 non-null      float64\n",
            " 15  e_oemid                      5184 non-null   int64  \n",
            " 16  e_oeminfo                    5184 non-null   int64  \n",
            " 17  e_res2                       0 non-null      float64\n",
            " 18  e_lfanew                     5184 non-null   int64  \n",
            " 19  Machine                      5184 non-null   int64  \n",
            " 20  NumberOfSections             5184 non-null   int64  \n",
            " 21  CreationYear                 5184 non-null   int64  \n",
            " 22  PointerToSymbolTable         5184 non-null   int64  \n",
            " 23  NumberOfSymbols              5184 non-null   int64  \n",
            " 24  SizeOfOptionalHeader         5184 non-null   int64  \n",
            " 25  Characteristics              5184 non-null   int64  \n",
            " 26  Magic                        5184 non-null   int64  \n",
            " 27  MajorLinkerVersion           5184 non-null   int64  \n",
            " 28  MinorLinkerVersion           5184 non-null   int64  \n",
            " 29  SizeOfCode                   5184 non-null   int64  \n",
            " 30  SizeOfInitializedData        5184 non-null   int64  \n",
            " 31  SizeOfUninitializedData      5184 non-null   int64  \n",
            " 32  AddressOfEntryPoint          5184 non-null   int64  \n",
            " 33  BaseOfCode                   5184 non-null   int64  \n",
            " 34  BaseOfData                   5184 non-null   int64  \n",
            " 35  ImageBase                    5184 non-null   int64  \n",
            " 36  SectionAlignment             5184 non-null   int64  \n",
            " 37  FileAlignment                5184 non-null   int64  \n",
            " 38  MajorOperatingSystemVersion  5184 non-null   int64  \n",
            " 39  MinorOperatingSystemVersion  5184 non-null   int64  \n",
            " 40  MajorImageVersion            5184 non-null   int64  \n",
            " 41  MinorImageVersion            5184 non-null   int64  \n",
            " 42  MajorSubsystemVersion        5184 non-null   int64  \n",
            " 43  MinorSubsystemVersion        5184 non-null   int64  \n",
            " 44  SizeOfImage                  5184 non-null   int64  \n",
            " 45  SizeOfHeaders                5184 non-null   int64  \n",
            " 46  CheckSum                     5184 non-null   int64  \n",
            " 47  Subsystem                    5184 non-null   int64  \n",
            " 48  DllCharacteristics           5184 non-null   int64  \n",
            " 49  SizeOfStackReserve           5184 non-null   int64  \n",
            " 50  SizeOfStackCommit            5184 non-null   int64  \n",
            " 51  SizeOfHeapReserve            5184 non-null   int64  \n",
            " 52  SizeOfHeapCommit             5184 non-null   int64  \n",
            " 53  LoaderFlags                  5184 non-null   int64  \n",
            " 54  NumberOfRvaAndSizes          5184 non-null   int64  \n",
            " 55  class                        5184 non-null   int64  \n",
            "dtypes: float64(2), int64(54)\n",
            "memory usage: 2.2 MB\n",
            "None\n"
          ]
        }
      ]
    },
    {
      "cell_type": "code",
      "source": [
        "legitimate = db[0:2501]\n",
        "malware = db [2501:]\n",
        "\n",
        "print(malware.take([1]))\n",
        "\n",
        "print(legitimate.shape)\n",
        "print(malware.shape)"
      ],
      "metadata": {
        "colab": {
          "base_uri": "https://localhost:8080/"
        },
        "collapsed": true,
        "id": "5TMlxdckFWBL",
        "outputId": "5a145163-b507-4c38-e7eb-34852dadf910"
      },
      "execution_count": null,
      "outputs": [
        {
          "output_type": "stream",
          "name": "stdout",
          "text": [
            "      e_magic  e_cblp  e_cp  e_crlc  e_cparhdr  e_minalloc  e_maxalloc  e_ss  \\\n",
            "2502    23117     144     3       0          4           0       65535     0   \n",
            "\n",
            "      e_sp  e_csum  ...  CheckSum  Subsystem  DllCharacteristics  \\\n",
            "2502   184       0  ...         0          2               32768   \n",
            "\n",
            "      SizeOfStackReserve  SizeOfStackCommit  SizeOfHeapReserve  \\\n",
            "2502             1048576               4096            1048576   \n",
            "\n",
            "      SizeOfHeapCommit  LoaderFlags  NumberOfRvaAndSizes  class  \n",
            "2502              4096            0                   16      1  \n",
            "\n",
            "[1 rows x 56 columns]\n",
            "(2501, 56)\n",
            "(2683, 56)\n"
          ]
        }
      ]
    },
    {
      "cell_type": "code",
      "source": [
        "data_in = db.drop([\"class\", \"e_res\", \"e_res2\"], axis=1).values\n",
        "labels = db[\"class\"].values"
      ],
      "metadata": {
        "id": "htsesrmQFdVg"
      },
      "execution_count": null,
      "outputs": []
    },
    {
      "cell_type": "code",
      "source": [
        "from sklearn.ensemble import RandomForestClassifier\n",
        "from sklearn.model_selection import train_test_split\n",
        "from sklearn.metrics import (\n",
        "    accuracy_score,\n",
        ")\n",
        "\n",
        "legitimate_train, legitimate_test, mal_train, mal_test = train_test_split(data_in, labels, test_size=0.35)\n",
        "model = RandomForestClassifier(n_estimators=53)\n",
        "\n",
        "# Training\n",
        "model.fit(legitimate_train, mal_train)\n",
        "\n",
        "# Test\n",
        "predicted = model.predict(legitimate_test)\n",
        "\n",
        "# Accuracy\n",
        "accuracy = accuracy_score(predicted, mal_test)\n",
        "print(\"Accuracy: \", accuracy)"
      ],
      "metadata": {
        "colab": {
          "base_uri": "https://localhost:8080/"
        },
        "id": "MyGp4BMHFgEh",
        "outputId": "d28561a7-b3f7-4f66-c302-aee5fcc0c9c4"
      },
      "execution_count": null,
      "outputs": [
        {
          "output_type": "stream",
          "name": "stdout",
          "text": [
            "Accuracy:  0.9845708775313404\n"
          ]
        }
      ]
    },
    {
      "cell_type": "code",
      "source": [
        "from sklearn.metrics import (\n",
        "    accuracy_score,\n",
        "    confusion_matrix,\n",
        "    ConfusionMatrixDisplay,\n",
        "    f1_score,\n",
        "    precision_score,\n",
        "    recall_score\n",
        ")\n",
        "import matplotlib.pyplot as plt\n",
        "\n",
        "# Labels for display\n",
        "display_labels = [\"Benign (0)\", \"Malware (1)\"]\n",
        "\n",
        "# Confusion matrix\n",
        "cm = confusion_matrix(mal_test, predicted, labels=[0, 1])\n",
        "disp = ConfusionMatrixDisplay(confusion_matrix=cm, display_labels=display_labels)\n",
        "disp.plot(cmap=plt.cm.Blues)\n",
        "plt.title(\"Confusion Matrix - Pre-Adversary: Model Predictions vs. True Labels\")\n",
        "plt.show()\n",
        "\n",
        "# Metrics\n",
        "accuracy = accuracy_score(mal_test, predicted)\n",
        "precision = precision_score(mal_test, predicted, zero_division=0)\n",
        "recall = recall_score(mal_test, predicted, zero_division=0)\n",
        "f1 = f1_score(mal_test, predicted, average=\"weighted\", zero_division=0)\n",
        "\n",
        "# Print results\n",
        "print(\"🧪 Evaluation Metrics:\")\n",
        "print(f\"Accuracy : {accuracy:.2f}\")\n",
        "print(f\"Precision: {precision:.2f}\")\n",
        "print(f\"Recall   : {recall:.2f}\")\n",
        "print(f\"F1 Score : {f1:.2f}\")"
      ],
      "metadata": {
        "colab": {
          "base_uri": "https://localhost:8080/",
          "height": 564
        },
        "id": "1kIwWtt-FlD0",
        "outputId": "518d7f88-6832-4d37-f734-ff42cbe27881"
      },
      "execution_count": null,
      "outputs": [
        {
          "output_type": "display_data",
          "data": {
            "text/plain": [
              "<Figure size 640x480 with 2 Axes>"
            ],
            "image/png": "[encoded data removed]"
          },
          "metadata": {}
        },
        {
          "output_type": "stream",
          "name": "stdout",
          "text": [
            "🧪 Evaluation Metrics:\n",
            "Accuracy : 0.98\n",
            "Precision: 0.99\n",
            "Recall   : 0.98\n",
            "F1 Score : 0.98\n"
          ]
        }
      ]
    },
    {
      "cell_type": "code",
      "source": [
        "#install ART\n",
        "!pip install adversarial-robustness-toolbox"
      ],
      "metadata": {
        "colab": {
          "base_uri": "https://localhost:8080/"
        },
        "id": "Oej1QU8mFu4K",
        "outputId": "56a869e2-ee22-48d8-b051-6f2d76f7382c"
      },
      "execution_count": null,
      "outputs": [
        {
          "output_type": "stream",
          "name": "stdout",
          "text": [
            "Collecting adversarial-robustness-toolbox\n",
            "  Downloading adversarial_robustness_toolbox-1.19.1-py3-none-any.whl.metadata (11 kB)\n",
            "Requirement already satisfied: numpy>=1.18.0 in /usr/local/lib/python3.11/dist-packages (from adversarial-robustness-toolbox) (2.0.2)\n",
            "Requirement already satisfied: scipy>=1.4.1 in /usr/local/lib/python3.11/dist-packages (from adversarial-robustness-toolbox) (1.15.3)\n",
            "Requirement already satisfied: scikit-learn>=0.22.2 in /usr/local/lib/python3.11/dist-packages (from adversarial-robustness-toolbox) (1.6.1)\n",
            "Requirement already satisfied: six in /usr/local/lib/python3.11/dist-packages (from adversarial-robustness-toolbox) (1.17.0)\n",
            "Requirement already satisfied: setuptools in /usr/local/lib/python3.11/dist-packages (from adversarial-robustness-toolbox) (75.2.0)\n",
            "Requirement already satisfied: tqdm in /usr/local/lib/python3.11/dist-packages (from adversarial-robustness-toolbox) (4.67.1)\n",
            "Requirement already satisfied: joblib>=1.2.0 in /usr/local/lib/python3.11/dist-packages (from scikit-learn>=0.22.2->adversarial-robustness-toolbox) (1.5.1)\n",
            "Requirement already satisfied: threadpoolctl>=3.1.0 in /usr/local/lib/python3.11/dist-packages (from scikit-learn>=0.22.2->adversarial-robustness-toolbox) (3.6.0)\n",
            "Downloading adversarial_robustness_toolbox-1.19.1-py3-none-any.whl (1.7 MB)\n",
            "\u001b[2K   \u001b[90m━━━━━━━━━━━━━━━━━━━━━━━━━━━━━━━━━━━━━━━━\u001b[0m \u001b[32m1.7/1.7 MB\u001b[0m \u001b[31m18.6 MB/s\u001b[0m eta \u001b[36m0:00:00\u001b[0m\n",
            "\u001b[?25hInstalling collected packages: adversarial-robustness-toolbox\n",
            "Successfully installed adversarial-robustness-toolbox-1.19.1\n"
          ]
        }
      ]
    },
    {
      "cell_type": "code",
      "source": [
        "#Wrap scikit-learn Model with ART toolbox\n",
        "from art.estimators.classification import SklearnClassifier\n",
        "art_classifier = SklearnClassifier(model=model)"
      ],
      "metadata": {
        "id": "rvGhCbu5F6Up"
      },
      "execution_count": null,
      "outputs": []
    },
    {
      "cell_type": "code",
      "source": [
        "from art.attacks.evasion import HopSkipJump\n",
        "from sklearn.preprocessing import MinMaxScaler\n",
        "from sklearn.metrics import accuracy_score\n",
        "import numpy as np\n",
        "import warnings\n",
        "import logging\n",
        "\n",
        "# Suppress ART warnings, otherwise we'd get 1 line per test.\n",
        "warnings.filterwarnings(\"ignore\", category=UserWarning)\n",
        "logging.getLogger(\"art.attacks.evasion.hop_skip_jump\").setLevel(logging.ERROR)\n",
        "\n",
        "# Scale test data\n",
        "scaler = MinMaxScaler()\n",
        "X_scaled = scaler.fit_transform(legitimate_test[:1000])\n",
        "X_adv_test = X_scaled\n",
        "y_adv_test = mal_test[:1000]\n",
        "\n",
        "# Run HopSkipJump\n",
        "try:\n",
        "    print(\"🔍 Running HopSkipJump...\")\n",
        "    hsj_attack = HopSkipJump(\n",
        "        classifier=art_classifier,\n",
        "        norm=2,\n",
        "        max_iter=100,\n",
        "        max_eval=10000,\n",
        "        init_eval=10,\n",
        "        verbose=True\n",
        "    )\n",
        "    X_adv_samples = hsj_attack.generate(x=X_adv_test)\n",
        "    print(\"✅ Adversarial samples generated.\")\n",
        "\n",
        "    # Evaluate effectiveness of attack\n",
        "    y_pred_clean = model.predict(X_adv_test)\n",
        "    y_pred_adv = model.predict(X_adv_samples)\n",
        "\n",
        "    # Compute success rate: proportion of samples that changed prediction\n",
        "    success_rate = np.mean(y_pred_clean != y_pred_adv)\n",
        "    print(f\"🎯 HSJ Attack Success Rate: {success_rate * 100:.2f}%\")\n",
        "\n",
        "except Exception as e:\n",
        "    print(\"❌ HSJ attack failed:\", str(e))\n",
        "    X_adv_samples = X_adv_test  # fallback"
      ],
      "metadata": {
        "colab": {
          "base_uri": "https://localhost:8080/",
          "height": 104,
          "referenced_widgets": [
            "1ae1c27ea24d4388971b4eba9cb1ead8",
            "8bf710aa86cf4542b0fbde22bade5e3e",
            "0de1759ed9ac4087956b9467b5a8e190",
            "9b8de3fbd3ed4ca68bb01d11f5e3e21a",
            "5594982f5e2944cc84bb19afc8f14faf",
            "19e42762d4bd4f869e11db3b41332475",
            "268a845669bf4d91b1f6a6969b5ae157",
            "77e6ec658f504f77a6e82643120d62ab",
            "f4e79cd66dd54cefa42ad73f35f12acb",
            "40a9ddd10fbc4a78bf5c85cadc7f2210",
            "f6b2722fd69f4c3cb217fc6f56f74304"
          ]
        },
        "id": "FBtFP2ADGIau",
        "outputId": "0a056c3a-18cd-4fe5-ae84-477098434cf6"
      },
      "execution_count": null,
      "outputs": [
        {
          "output_type": "stream",
          "name": "stdout",
          "text": [
            "🔍 Running HopSkipJump...\n"
          ]
        },
        {
          "output_type": "display_data",
          "data": {
            "text/plain": [
              "HopSkipJump:   0%|          | 0/1000 [00:00<?, ?it/s]"
            ],
            "application/vnd.jupyter.widget-view+json": {
              "version_major": 2,
              "version_minor": 0,
              "model_id": "1ae1c27ea24d4388971b4eba9cb1ead8"
            }
          },
          "metadata": {}
        },
        {
          "output_type": "stream",
          "name": "stdout",
          "text": [
            "✅ Adversarial samples generated.\n",
            "🎯 HSJ Attack Success Rate: 0.00%\n"
          ]
        }
      ]
    },
    {
      "cell_type": "code",
      "source": [
        "#show results\n",
        "unchanged = np.sum(np.all(X_adv_samples == X_adv_test, axis=1))\n",
        "print(f\"🧪 Number of adversarial samples unchanged: {unchanged}/{len(X_adv_test)}\")"
      ],
      "metadata": {
        "colab": {
          "base_uri": "https://localhost:8080/"
        },
        "id": "R0mH6vUySxxg",
        "outputId": "6d4e6ab3-392c-445b-856e-ccb0018189b7"
      },
      "execution_count": null,
      "outputs": [
        {
          "output_type": "stream",
          "name": "stdout",
          "text": [
            "🧪 Number of adversarial samples unchanged: 0/1000\n"
          ]
        }
      ]
    },
    {
      "cell_type": "code",
      "source": [
        "from art.attacks.evasion import BoundaryAttack\n",
        "from sklearn.preprocessing import MinMaxScaler\n",
        "from sklearn.metrics import accuracy_score\n",
        "import numpy as np\n",
        "import warnings\n",
        "import logging\n",
        "\n",
        "# Suppress warnings\n",
        "warnings.filterwarnings(\"ignore\", category=UserWarning)\n",
        "logging.getLogger(\"art.attacks.evasion\").setLevel(logging.ERROR)\n",
        "\n",
        "# Preprocess test data (scaling is required for many classifiers)\n",
        "scaler = MinMaxScaler()\n",
        "X_scaled = scaler.fit_transform(legitimate_test[:1000])\n",
        "y_scaled = mal_test[:1000]\n",
        "\n",
        "# Boundary Attack setup\n",
        "try:\n",
        "    print(\"🔍 Running Boundary Attack...\")\n",
        "\n",
        "    boundary_attack = BoundaryAttack(\n",
        "        estimator=art_classifier,\n",
        "        targeted=False,\n",
        "        max_iter=1000,\n",
        "        delta=0.01,\n",
        "        epsilon=0.01,\n",
        "        verbose=True\n",
        "    )\n",
        "\n",
        "    X_adv_samples = boundary_attack.generate(x=X_scaled)\n",
        "    print(\"✅ Adversarial samples generated.\")\n",
        "\n",
        "    # Evaluate\n",
        "    y_pred_clean = model.predict(X_scaled)\n",
        "    y_pred_adv = model.predict(X_adv_samples)\n",
        "    success_rate = np.mean(y_pred_clean != y_pred_adv)\n",
        "\n",
        "    print(f\"🎯 Boundary Attack Success Rate: {success_rate * 100:.2f}%\")\n",
        "\n",
        "except Exception as e:\n",
        "    print(\"❌ Boundary Attack failed:\", str(e))\n",
        "    X_adv_samples = X_scaled"
      ],
      "metadata": {
        "colab": {
          "base_uri": "https://localhost:8080/",
          "height": 104,
          "referenced_widgets": [
            "827bc82b1bb44297aad51ca436eff5a6",
            "9020f39a61964393aa0d22952ceaef08",
            "5b528a9dd2ea4858a0398f63fb1e5d59",
            "8db73d89683142f289198bd4df4bf02f",
            "32e6853d043d4959971b7402b272febf",
            "879c67cdee2a4899a508febabdc5154c",
            "13c37fdde1a943158dbee935a7e81d66",
            "83fa88bc0e8b4233814996d22f846907",
            "f4e17dcc6bd24a8cb3f4d7ec4ad10720",
            "c2801641b3854ad3858c1859c89c5b49",
            "9a32e2e1522c4206b53049f96084e99c"
          ]
        },
        "id": "dm1cPHP5X1a7",
        "outputId": "6d42762a-198d-4111-c0c9-cf1e449ffcc9"
      },
      "execution_count": null,
      "outputs": [
        {
          "output_type": "stream",
          "name": "stdout",
          "text": [
            "🔍 Running Boundary Attack...\n"
          ]
        },
        {
          "output_type": "display_data",
          "data": {
            "text/plain": [
              "Boundary attack:   0%|          | 0/1000 [00:00<?, ?it/s]"
            ],
            "application/vnd.jupyter.widget-view+json": {
              "version_major": 2,
              "version_minor": 0,
              "model_id": "827bc82b1bb44297aad51ca436eff5a6"
            }
          },
          "metadata": {}
        },
        {
          "output_type": "stream",
          "name": "stdout",
          "text": [
            "✅ Adversarial samples generated.\n",
            "🎯 Boundary Attack Success Rate: 0.00%\n"
          ]
        }
      ]
    },
    {
      "cell_type": "code",
      "source": [
        "#show results\n",
        "unchanged = np.sum(np.all(X_adv_samples == X_adv_test, axis=1))\n",
        "print(f\"🧪 Number of adversarial samples unchanged: {unchanged}/{len(X_adv_test)}\")"
      ],
      "metadata": {
        "id": "FxF81cuUJ6U8"
      },
      "execution_count": null,
      "outputs": []
    }
  ]
}